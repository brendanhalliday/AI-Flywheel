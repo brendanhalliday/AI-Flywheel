{
 "cells": [
  {
   "cell_type": "code",
   "execution_count": 1,
   "metadata": {},
   "outputs": [],
   "source": [
    "from sympy import symbols, Function, Derivative, diff, simplify, Matrix, solve\n",
    "from sympy.physics.mechanics import init_vprinting\n",
    "import sympy as sp\n",
    "\n",
    "# this is responsible to visualize time derivatives with dots\n",
    "init_vprinting()\n",
    "\n",
    "# then you need to define x as a functions of time\n",
    "t, g, m_1, m_2, l_1, l_2, I_1, I_2 ,tau = symbols('t g m_1 m_2 l_1 l_2 I_1 I_2 tau')\n",
    "\n",
    "theta_1 = Function(\"theta_1\")(t)\n",
    "theta_2 = Function(\"theta_2\")(t)\n",
    "\n",
    "# Now you can visualize derivatives with dots\n",
    "theta_1_dot = Derivative(theta_1, t)\n",
    "theta_2_dot = Derivative(theta_2, t)\n",
    "\n",
    "theta_1_dot_dot = Derivative(theta_1_dot, t)\n",
    "theta_2_dot_dot = Derivative(theta_2_dot, t)"
   ]
  },
  {
   "cell_type": "code",
   "execution_count": 2,
   "metadata": {},
   "outputs": [],
   "source": [
    "KE_trans = (1/2)*(m_1*(l_1*theta_1_dot)**2 + m_2*(l_2*theta_1_dot)**2)\n",
    "KE_rot   = (1/2)*(I_1*theta_1_dot**2 + I_2*(theta_1_dot + theta_2_dot)**2)\n",
    "KE = KE_trans + KE_rot\n",
    "\n",
    "PE = - g * sp.cos(theta_1)*(m_1*l_1 + m_2*l_2)\n",
    "\n",
    "L = KE - PE\n",
    "H = KE + PE"
   ]
  },
  {
   "cell_type": "code",
   "execution_count": 3,
   "metadata": {},
   "outputs": [
    {
     "data": {
      "image/png": "[encoded data removed]",
      "text/latex": [
       "$\\displaystyle 0.5 I_{1} \\dot{\\theta}_{1}^{2} + 0.5 I_{2} \\left(\\dot{\\theta}_{1} + \\dot{\\theta}_{2}\\right)^{2} + 0.5 l_{1}^{2} m_{1} \\dot{\\theta}_{1}^{2} + 0.5 l_{2}^{2} m_{2} \\dot{\\theta}_{1}^{2}$"
      ],
      "text/plain": [
       "         2                   2         2      2         2      2\n",
       "0.5⋅I₁⋅θ₁̇  + 0.5⋅I₂⋅(θ₁̇ + θ₂̇)  + 0.5⋅l₁ ⋅m₁⋅θ₁̇  + 0.5⋅l₂ ⋅m₂⋅θ₁̇ "
      ]
     },
     "execution_count": 3,
     "metadata": {},
     "output_type": "execute_result"
    }
   ],
   "source": [
    "KE"
   ]
  },
  {
   "cell_type": "code",
   "execution_count": 4,
   "metadata": {},
   "outputs": [
    {
     "data": {
      "image/png": "[encoded data removed]",
      "text/latex": [
       "$\\displaystyle - g \\left(l_{1} m_{1} + l_{2} m_{2}\\right) \\cos{\\left(\\theta_{1} \\right)}$"
      ],
      "text/plain": [
       "-g⋅(l₁⋅m₁ + l₂⋅m₂)⋅cos(θ₁)"
      ]
     },
     "execution_count": 4,
     "metadata": {},
     "output_type": "execute_result"
    }
   ],
   "source": [
    "PE"
   ]
  },
  {
   "cell_type": "code",
   "execution_count": 3,
   "metadata": {},
   "outputs": [
    {
     "data": {
      "image/png": "[encoded data removed]",
      "text/latex": [
       "$\\displaystyle 0.5 I_{1} \\dot{\\theta}_{1}^{2} + 0.5 I_{2} \\left(\\dot{\\theta}_{1} + \\dot{\\theta}_{2}\\right)^{2} - g \\left(l_{1} m_{1} + l_{2} m_{2}\\right) \\cos{\\left(\\theta_{1} \\right)} + 0.5 l_{1}^{2} m_{1} \\dot{\\theta}_{1}^{2} + 0.5 l_{2}^{2} m_{2} \\dot{\\theta}_{1}^{2}$"
      ],
      "text/plain": [
       "         2                   2                                     2      2   \n",
       "0.5⋅I₁⋅θ₁̇  + 0.5⋅I₂⋅(θ₁̇ + θ₂̇)  - g⋅(l₁⋅m₁ + l₂⋅m₂)⋅cos(θ₁) + 0.5⋅l₁ ⋅m₁⋅θ₁̇\n",
       "\n",
       "      2      2\n",
       "  + 0.5⋅l₂ ⋅m₂⋅θ₁̇ "
      ]
     },
     "execution_count": 3,
     "metadata": {},
     "output_type": "execute_result"
    }
   ],
   "source": [
    "H"
   ]
  },
  {
   "cell_type": "code",
   "execution_count": 8,
   "metadata": {},
   "outputs": [
    {
     "data": {
      "image/png": "[encoded data removed]",
      "text/latex": [
       "$\\displaystyle - g \\left(l_{1} m_{1} + l_{2} m_{2}\\right) \\cos{\\left(\\theta_{1} \\right)}$"
      ],
      "text/plain": [
       "-g⋅(l₁⋅m₁ + l₂⋅m₂)⋅cos(θ₁)"
      ]
     },
     "execution_count": 8,
     "metadata": {},
     "output_type": "execute_result"
    }
   ],
   "source": [
    "PE\n",
    "# minimum gravitational potential energy is when theta1 is 0 or when the rod is at the bottom"
   ]
  },
  {
   "cell_type": "code",
   "execution_count": 9,
   "metadata": {},
   "outputs": [
    {
     "data": {
      "image/png": "[encoded data removed]",
      "text/latex": [
       "$\\displaystyle \\left[\\begin{matrix}- g \\left(l_{1} m_{1} + l_{2} m_{2}\\right) \\sin{\\left(\\theta_{1} \\right)}\\\\0\\end{matrix}\\right]$"
      ],
      "text/plain": [
       "⎡-g⋅(l₁⋅m₁ + l₂⋅m₂)⋅sin(θ₁)⎤\n",
       "⎢                          ⎥\n",
       "⎣            0             ⎦"
      ]
     },
     "metadata": {},
     "output_type": "display_data"
    }
   ],
   "source": [
    "delL_deltheta1 = diff(L, theta_1)\n",
    "delL_deltheta2 = diff(L, theta_2)\n",
    "\n",
    "dL_dt = Matrix([delL_deltheta1,\n",
    "                delL_deltheta2])\n",
    "\n",
    "display(dL_dt)"
   ]
  },
  {
   "cell_type": "code",
   "execution_count": 10,
   "metadata": {},
   "outputs": [
    {
     "data": {
      "image/png": "[encoded data removed]",
      "text/latex": [
       "$\\displaystyle \\left[\\begin{matrix}1.0 I_{1} \\ddot{\\theta}_{1} + 1.0 I_{2} \\ddot{\\theta}_{1} + 1.0 I_{2} \\ddot{\\theta}_{2} + 1.0 l_{1}^{2} m_{1} \\ddot{\\theta}_{1} + 1.0 l_{2}^{2} m_{2} \\ddot{\\theta}_{1}\\\\1.0 I_{2} \\left(\\ddot{\\theta}_{1} + \\ddot{\\theta}_{2}\\right)\\end{matrix}\\right]$"
      ],
      "text/plain": [
       "⎡                                          2               2      ⎤\n",
       "⎢1.0⋅I₁⋅θ₁̈ + 1.0⋅I₂⋅θ₁̈ + 1.0⋅I₂⋅θ₂̈ + 1.0⋅l₁ ⋅m₁⋅θ₁̈ + 1.0⋅l₂ ⋅m₂⋅θ₁̈⎥\n",
       "⎢                                                                 ⎥\n",
       "⎣                        1.0⋅I₂⋅(θ₁̈ + θ₂̈)                         ⎦"
      ]
     },
     "metadata": {},
     "output_type": "display_data"
    }
   ],
   "source": [
    "d_dt_delL_deltheta1dot = diff(diff(L, theta_1_dot), t)\n",
    "d_dt_delL_deltheta2dot = diff(diff(L, theta_2_dot), t)\n",
    "\n",
    "ddL_ddt = Matrix([d_dt_delL_deltheta1dot,\n",
    "                  d_dt_delL_deltheta2dot])\n",
    "\n",
    "display(simplify(ddL_ddt))"
   ]
  },
  {
   "cell_type": "code",
   "execution_count": 11,
   "metadata": {},
   "outputs": [
    {
     "data": {
      "image/png": "[encoded data removed]",
      "text/latex": [
       "$\\displaystyle \\left[ - \\frac{I_{2} \\ddot{\\theta}_{2} + g l_{1} m_{1} \\sin{\\left(\\theta_{1} \\right)} + g l_{2} m_{2} \\sin{\\left(\\theta_{1} \\right)}}{I_{1} + I_{2} + l_{1}^{2} m_{1} + l_{2}^{2} m_{2}}\\right]$"
      ],
      "text/plain": [
       "⎡-(I₂⋅θ₂̈ + g⋅l₁⋅m₁⋅sin(θ₁) + g⋅l₂⋅m₂⋅sin(θ₁)) ⎤\n",
       "⎢─────────────────────────────────────────────⎥\n",
       "⎢                      2        2             ⎥\n",
       "⎣          I₁ + I₂ + l₁ ⋅m₁ + l₂ ⋅m₂          ⎦"
      ]
     },
     "execution_count": 11,
     "metadata": {},
     "output_type": "execute_result"
    }
   ],
   "source": [
    "solve(d_dt_delL_deltheta1dot - delL_deltheta1, theta_1_dot_dot) "
   ]
  },
  {
   "cell_type": "code",
   "execution_count": 12,
   "metadata": {},
   "outputs": [
    {
     "data": {
      "image/png": "[encoded data removed]",
      "text/latex": [
       "$\\displaystyle \\left[ - \\ddot{\\theta}_{1}\\right]$"
      ],
      "text/plain": [
       "[-θ₁̈]"
      ]
     },
     "execution_count": 12,
     "metadata": {},
     "output_type": "execute_result"
    }
   ],
   "source": [
    "solve(d_dt_delL_deltheta2dot - delL_deltheta2, theta_2_dot_dot) "
   ]
  },
  {
   "cell_type": "code",
   "execution_count": 13,
   "metadata": {},
   "outputs": [
    {
     "data": {
      "image/png": "[encoded data removed]",
      "text/latex": [
       "$\\displaystyle \\left[ \\left\\{ \\ddot{\\theta}_{1} : \\frac{- g l_{1} m_{1} \\sin{\\left(\\theta_{1} \\right)} - g l_{2} m_{2} \\sin{\\left(\\theta_{1} \\right)} - \\tau}{I_{1} + l_{1}^{2} m_{1} + l_{2}^{2} m_{2}}, \\  \\ddot{\\theta}_{2} : \\frac{I_{1} \\tau + I_{2} g l_{1} m_{1} \\sin{\\left(\\theta_{1} \\right)} + I_{2} g l_{2} m_{2} \\sin{\\left(\\theta_{1} \\right)} + I_{2} \\tau + l_{1}^{2} m_{1} \\tau + l_{2}^{2} m_{2} \\tau}{I_{1} I_{2} + I_{2} l_{1}^{2} m_{1} + I_{2} l_{2}^{2} m_{2}}\\right\\}\\right]$"
      ],
      "text/plain": [
       "⎡⎧                                                                            \n",
       "⎢⎪    -g⋅l₁⋅m₁⋅sin(θ₁) - g⋅l₂⋅m₂⋅sin(θ₁) - τ      I₁⋅τ + I₂⋅g⋅l₁⋅m₁⋅sin(θ₁) + \n",
       "⎢⎨θ₁̈: ──────────────────────────────────────, θ₂̈: ──────────────────────────\n",
       "⎢⎪                    2        2                                              \n",
       "⎣⎩             I₁ + l₁ ⋅m₁ + l₂ ⋅m₂                                      I₁⋅I₂\n",
       "\n",
       "                              2          2     ⎫⎤\n",
       "I₂⋅g⋅l₂⋅m₂⋅sin(θ₁) + I₂⋅τ + l₁ ⋅m₁⋅τ + l₂ ⋅m₂⋅τ⎪⎥\n",
       "─────────────────────────────────────────────────⎬⎥\n",
       "        2           2                          ⎪⎥\n",
       " + I₂⋅l₁ ⋅m₁ + I₂⋅l₂ ⋅m₂                       ⎭⎦"
      ]
     },
     "execution_count": 13,
     "metadata": {},
     "output_type": "execute_result"
    }
   ],
   "source": [
    "# these equations are correct(march 23 2024)\n",
    "solve([d_dt_delL_deltheta1dot - delL_deltheta1, d_dt_delL_deltheta2dot - delL_deltheta2 - tau], [theta_1_dot_dot, theta_2_dot_dot], dict=True)"
   ]
  }
 ],
 "metadata": {
  "kernelspec": {
   "display_name": "Python 3",
   "language": "python",
   "name": "python3"
  },
  "language_info": {
   "codemirror_mode": {
    "name": "ipython",
    "version": 3
   },
   "file_extension": ".py",
   "mimetype": "text/x-python",
   "name": "python",
   "nbconvert_exporter": "python",
   "pygments_lexer": "ipython3",
   "version": "3.9.13"
  }
 },
 "nbformat": 4,
 "nbformat_minor": 2
}
